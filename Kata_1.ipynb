{
 "cells": [
  {
   "cell_type": "markdown",
   "metadata": {},
   "source": [
    "## primer programa\n"
   ]
  },
  {
   "cell_type": "code",
   "execution_count": 1,
   "metadata": {},
   "outputs": [
    {
     "name": "stdout",
     "output_type": "stream",
     "text": [
      "programa que muestra la fecha de dia \n",
      "La fecha de hoy es : 2022-02-11\n"
     ]
    }
   ],
   "source": [
    "# Programa quer muestra la fecha de hoy \n",
    "print('programa que muestra la fecha de dia ')\n",
    "from datetime import date\n",
    "\n",
    "print(\"La fecha de hoy es : \" + str (date.today()))\n"
   ]
  },
  {
   "cell_type": "markdown",
   "metadata": {},
   "source": [
    "## Construir un convertidor de unidades"
   ]
  },
  {
   "cell_type": "code",
   "execution_count": 2,
   "metadata": {},
   "outputs": [
    {
     "name": "stdout",
     "output_type": "stream",
     "text": [
      "11 parsec, is 35.877159999999996 lightyears\n"
     ]
    }
   ],
   "source": [
    "parsec = 11\n",
    "\n",
    "lightyears = 3.26156 * parsec\n",
    "\n",
    "print(str(parsec) + \" parsec, is \" + str(lightyears) + \" lightyears\")"
   ]
  },
  {
   "cell_type": "markdown",
   "metadata": {},
   "source": [
    "## suma\n"
   ]
  },
  {
   "cell_type": "code",
   "execution_count": 10,
   "metadata": {},
   "outputs": [
    {
     "name": "stdout",
     "output_type": "stream",
     "text": [
      "Calculadora\n",
      "El resultado de la operacion es: 2198\n"
     ]
    }
   ],
   "source": [
    "print(\"Calculadora\")\n",
    "first_number = int(input(\"Primer número: \"))\n",
    "second_number =  int (input(\"Segundo número: \"))\n",
    "r= first_number + second_number\n",
    "print(\"El resultado de la operacion es: \" +str (r))"
   ]
  },
  {
   "cell_type": "markdown",
   "metadata": {},
   "source": [
    "## programa python"
   ]
  },
  {
   "cell_type": "code",
   "execution_count": 11,
   "metadata": {},
   "outputs": [
    {
     "name": "stdout",
     "output_type": "stream",
     "text": [
      "3\n"
     ]
    }
   ],
   "source": [
    " # program.py\n",
    "sum = 1 + 2\n",
    "print(sum)"
   ]
  },
  {
   "cell_type": "markdown",
   "metadata": {},
   "source": [
    "## Variables\n"
   ]
  },
  {
   "cell_type": "code",
   "execution_count": 14,
   "metadata": {},
   "outputs": [
    {
     "name": "stdout",
     "output_type": "stream",
     "text": [
      "El resultado de la operacion es: 6\n"
     ]
    }
   ],
   "source": [
    "sum = 1 + 2 # 3\n",
    "product = sum * 2\n",
    "print(\"El resultado de la operacion es: \"+ str (product))"
   ]
  },
  {
   "cell_type": "markdown",
   "metadata": {},
   "source": [
    "## Tipos de datos\n",
    "Tipo numérico\tNúmero, con o sin decimales\tint, float, complex, no = 3\n",
    "Tipo de texto\tCadena de caracteres\tstr = \"a literal string\"\n",
    "Tipo booleano\tBooleano\tcontinue = True"
   ]
  },
  {
   "cell_type": "code",
   "execution_count": 19,
   "metadata": {},
   "outputs": [
    {
     "data": {
      "text/plain": [
       "bool"
      ]
     },
     "execution_count": 19,
     "metadata": {},
     "output_type": "execute_result"
    }
   ],
   "source": [
    "planetas_en_el_sistema_solar = 8 # int, plutón era considerado un planeta pero ya es muy pequeño\n",
    "distancia_a_alfa_centauri = 4.367 # float, años luz\n",
    "puede_despegar = True\n",
    "transbordador_que_aterrizo_en_la_luna = \"Apollo 11\" #string\n",
    "type(planetas_en_el_sistema_solar)\n",
    "type(distancia_a_alfa_centauri)\n",
    "type(puede_despegar)\n",
    "##type(transbordador_que_aterrizo_en_la_luna)"
   ]
  },
  {
   "cell_type": "markdown",
   "metadata": {},
   "source": [
    "## Fechas"
   ]
  },
  {
   "cell_type": "code",
   "execution_count": 22,
   "metadata": {},
   "outputs": [
    {
     "name": "stdout",
     "output_type": "stream",
     "text": [
      "El dia de hoy es : 2022-02-11\n"
     ]
    }
   ],
   "source": [
    "# Importamos la biblioteca \n",
    "from datetime import date\n",
    "\n",
    "# Obtenemos la fecha de hoy\n",
    "date.today()\n",
    "\n",
    "# Mostramos la fecha en la consola\n",
    "print(\"El dia de hoy es : \" + str(date.today()))"
   ]
  },
  {
   "cell_type": "markdown",
   "metadata": {},
   "source": [
    "## Entrada de usuario"
   ]
  },
  {
   "cell_type": "code",
   "execution_count": 31,
   "metadata": {},
   "outputs": [
    {
     "name": "stdout",
     "output_type": "stream",
     "text": [
      "Bienvenido al programa de bienvenida\n",
      "Hola que tal mucho gusto  Daniel me indica que tu edad es de 23 verdad!!\n"
     ]
    }
   ],
   "source": [
    "print(\"Bienvenido al programa de bienvenida\")\n",
    "name = input(\"Introduzca su nombre \")\n",
    "edad = int (input (\"Cuantos años tienes\"))\n",
    "\n",
    "print(\"Hola que tal mucho gusto  \" + name + \" me indica que tu edad es de \" + str(edad) + \" años verdad!!\")"
   ]
  },
  {
   "cell_type": "markdown",
   "metadata": {},
   "source": [
    "## Trabajar con números\n"
   ]
  },
  {
   "cell_type": "code",
   "execution_count": 34,
   "metadata": {},
   "outputs": [
    {
     "name": "stdout",
     "output_type": "stream",
     "text": [
      "Calculadora\n",
      "El resultado de la operacion es: 9100\n",
      "9100\n"
     ]
    }
   ],
   "source": [
    "print(\"Calculadora\")\n",
    "Primer_numero =int ( input(\"Primer número: \"))\n",
    "Segundo_numero =int( input(\"Segundo número: \"))\n",
    "resultado = Primer_numero+Segundo_numero\n",
    "print(\"El resultado de la operacion es: \" + str(resultado)) #opcion 1\n",
    "print(int(Primer_numero)+ int(Segundo_numero))#opcion 2"
   ]
  }
 ],
 "metadata": {
  "interpreter": {
   "hash": "5322818cae43cf6468214953b049884cb6ca7e8071f01fca2a6d6ce521d192bd"
  },
  "kernelspec": {
   "display_name": "Python 3.10.2 64-bit",
   "language": "python",
   "name": "python3"
  },
  "language_info": {
   "codemirror_mode": {
    "name": "ipython",
    "version": 3
   },
   "file_extension": ".py",
   "mimetype": "text/x-python",
   "name": "python",
   "nbconvert_exporter": "python",
   "pygments_lexer": "ipython3",
   "version": "3.10.2"
  },
  "orig_nbformat": 4
 },
 "nbformat": 4,
 "nbformat_minor": 2
}
